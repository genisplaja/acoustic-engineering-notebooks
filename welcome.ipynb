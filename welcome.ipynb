{
 "cells": [
  {
   "cell_type": "markdown",
   "id": "c40699df",
   "metadata": {},
   "source": [
    "# Basic Jupyter Notebook usage\n",
    "\n",
    "Zat Pros, Adriana Modrego, Genís Plaja\n",
    "\n",
    "Acoustic Engineering 2024-2025, Universitat Pompeu Fabra"
   ]
  },
  {
   "cell_type": "code",
   "execution_count": null,
   "id": "9bb25b6a",
   "metadata": {},
   "outputs": [],
   "source": [
    "import os\n",
    "import sys\n",
    "\n",
    "import numpy as np\n",
    "import matplotlib.pyplot as plt"
   ]
  },
  {
   "cell_type": "markdown",
   "id": "4b38fdfe",
   "metadata": {},
   "source": [
    "Let's do some basic stuff :)"
   ]
  },
  {
   "cell_type": "code",
   "execution_count": null,
   "id": "102674f4",
   "metadata": {},
   "outputs": [],
   "source": [
    "a = np.random.normal(size=[10,])\n",
    "a"
   ]
  },
  {
   "cell_type": "code",
   "execution_count": null,
   "id": "b5f777d2",
   "metadata": {},
   "outputs": [],
   "source": [
    "plt.plot(a);\n",
    "plt.show()"
   ]
  },
  {
   "cell_type": "markdown",
   "id": "2fd91fb8",
   "metadata": {},
   "source": [
    "Add more text here..."
   ]
  },
  {
   "cell_type": "code",
   "execution_count": null,
   "id": "40f3b0ca",
   "metadata": {},
   "outputs": [],
   "source": []
  }
 ],
 "metadata": {
  "kernelspec": {
   "display_name": "Python 3 (ipykernel)",
   "language": "python",
   "name": "python3"
  },
  "language_info": {
   "codemirror_mode": {
    "name": "ipython",
    "version": 3
   },
   "file_extension": ".py",
   "mimetype": "text/x-python",
   "name": "python",
   "nbconvert_exporter": "python",
   "pygments_lexer": "ipython3",
   "version": "3.10.13"
  }
 },
 "nbformat": 4,
 "nbformat_minor": 5
}
